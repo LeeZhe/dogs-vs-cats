{
 "cells": [
  {
   "cell_type": "markdown",
   "metadata": {},
   "source": [
    "## 文件操作"
   ]
  },
  {
   "cell_type": "code",
   "execution_count": 4,
   "metadata": {},
   "outputs": [
    {
     "name": "stdout",
     "output_type": "stream",
     "text": [
      "File operation begin !\n",
      "File done 24.15 seconds to operation !\n"
     ]
    }
   ],
   "source": [
    "import os\n",
    "import shutil \n",
    "import random\n",
    "import time\n",
    "print('File operation begin !')\n",
    "t=time.time()\n",
    "TRAIN_PATH = \"./train/\"\n",
    "TEST_PATH = \"./test/\"\n",
    "# SAMPLE_PATH = \"sample/\"\n",
    "CAT_PATH = \"cat/\"\n",
    "DOG_PATH = \"dog/\"\n",
    "CLEAN_TRAIN = \"clean_train/\"\n",
    "\n",
    "def checkDir(dir_path):\n",
    "    if not os.path.exists(dir_path):\n",
    "        os.makedirs(dir_path)\n",
    "\n",
    "checkDir(CAT_PATH)\n",
    "checkDir(DOG_PATH)\n",
    "checkDir(CLEAN_TRAIN)\n",
    "\n",
    "train_files = os.listdir(TRAIN_PATH)\n",
    "for file in train_files:\n",
    "    if 'dog' in file:\n",
    "        shutil.copy(TRAIN_PATH + file, DOG_PATH + file)\n",
    "    if 'cat' in file:\n",
    "        shutil.copy(TRAIN_PATH + file, CAT_PATH + file)    \n",
    "t2 = time.time()\n",
    "print('File done', round(t2 - t, 2), 'seconds to operation !')"
   ]
  },
  {
   "cell_type": "code",
   "execution_count": 5,
   "metadata": {},
   "outputs": [
    {
     "name": "stderr",
     "output_type": "stream",
     "text": [
      "Using TensorFlow backend.\n"
     ]
    }
   ],
   "source": [
    "import cv2\n",
    "import glob\n",
    "import time\n",
    "import numpy as np\n",
    "import matplotlib.pyplot as plt\n",
    "from matplotlib import pylab as plb\n",
    "from keras.models import Model\n",
    "from keras.layers import Input, Flatten, Dropout, Dense\n",
    "from keras.models import load_model\n",
    "from keras.callbacks import ModelCheckpoint\n",
    "from sklearn.utils import shuffle\n",
    "from keras.preprocessing import image\n",
    "from keras.applications.resnet50 import preprocess_input, decode_predictions"
   ]
  },
  {
   "cell_type": "markdown",
   "metadata": {},
   "source": [
    "###  数据可视化"
   ]
  },
  {
   "cell_type": "code",
   "execution_count": 6,
   "metadata": {},
   "outputs": [],
   "source": [
    "imgs = []\n",
    "for file in train_files:\n",
    "    img = cv2.imread(TRAIN_PATH + file)\n",
    "    imgs.append(img.shape[0:2])\n",
    "#     break\n",
    "    \n",
    "imgs = np.array(imgs)\n",
    "x = imgs[:,0]\n",
    "y = imgs[:,1]"
   ]
  },
  {
   "cell_type": "code",
   "execution_count": 7,
   "metadata": {},
   "outputs": [
    {
     "name": "stdout",
     "output_type": "stream",
     "text": [
      "Populating the interactive namespace from numpy and matplotlib\n"
     ]
    },
    {
     "name": "stderr",
     "output_type": "stream",
     "text": [
      "/Users/leezhe/anaconda3/lib/python3.6/site-packages/IPython/core/magics/pylab.py:160: UserWarning: pylab import has clobbered these variables: ['random', 'shuffle']\n",
      "`%matplotlib` prevents importing * from pylab and numpy\n",
      "  \"\\n`%matplotlib` prevents importing * from pylab and numpy\"\n"
     ]
    },
    {
     "data": {
      "image/png": "[encoded data removed]",
      "text/plain": [
       "<Figure size 432x288 with 1 Axes>"
      ]
     },
     "metadata": {},
     "output_type": "display_data"
    }
   ],
   "source": [
    "%pylab inline\n",
    "plt.title('cat-width-height')\n",
    "plt.xlabel('Width')\n",
    "plt.ylabel('Height')\n",
    "plt.scatter(x, y, alpha = 0.6)\n",
    "plt.show()"
   ]
  },
  {
   "cell_type": "markdown",
   "metadata": {},
   "source": [
    "### 数据预处理"
   ]
  },
  {
   "cell_type": "markdown",
   "metadata": {},
   "source": [
    "### 自带的预处理方法"
   ]
  },
  {
   "cell_type": "code",
   "execution_count": 2,
   "metadata": {},
   "outputs": [],
   "source": [
    "def get_train_data1(imgDir, size=224):\n",
    "    imgDir = shuffle(imgDir)\n",
    "    train_x = np.zeros((len(imgDir), size, size, 3), dtype=np.float32)\n",
    "    train_y = np.zeros(len(imgDir), dtype=np.uint8)\n",
    "    for index, file in enumerate(imgDir):        \n",
    "        img = image.load_img(file, target_size=(size, size))\n",
    "        x = image.img_to_array(img)\n",
    "        x = np.expand_dims(x, axis=0)\n",
    "        train_x[index] = preprocess_input(x)    \n",
    "        if 'dog' in file:\n",
    "            train_y[index] = 1\n",
    "    return train_x, train_y"
   ]
  },
  {
   "cell_type": "code",
   "execution_count": 3,
   "metadata": {},
   "outputs": [
    {
     "name": "stdout",
     "output_type": "stream",
     "text": [
      "Proprecessing begin !\n",
      "1215.41 seconds to preprocessing !\n"
     ]
    }
   ],
   "source": [
    "# cat 0  dog 1\n",
    "print('Proprecessing begin !')\n",
    "t=time.time()\n",
    "train_dir = glob.glob('train_all/*.jpg')\n",
    "train_x, train_y = get_train_data1(train_dir)\n",
    "t2 = time.time()\n",
    "print(round(t2 - t, 2), 'seconds to preprocessing !')"
   ]
  },
  {
   "cell_type": "markdown",
   "metadata": {},
   "source": [
    "## ------------------------------------------------------------------------------------------------------\n",
    "### 50% Dropout"
   ]
  },
  {
   "cell_type": "code",
   "execution_count": 6,
   "metadata": {},
   "outputs": [
    {
     "name": "stdout",
     "output_type": "stream",
     "text": [
      "Train on 20000 samples, validate on 5000 samples\n",
      "Epoch 1/10\n",
      "19990/20000 [============================>.] - ETA: 2s - loss: 0.1564 - acc: 0.9376\n",
      "Epoch 00001: val_loss improved from inf to 0.04456, saving model to model_best.h5\n",
      "20000/20000 [==============================] - 5523s 276ms/step - loss: 0.1564 - acc: 0.9375 - val_loss: 0.0446 - val_acc: 0.9854\n",
      "Epoch 2/10\n",
      "19990/20000 [============================>.] - ETA: 2s - loss: 0.0777 - acc: 0.9699\n",
      "Epoch 00002: val_loss improved from 0.04456 to 0.03630, saving model to model_best.h5\n",
      "20000/20000 [==============================] - 5346s 267ms/step - loss: 0.0777 - acc: 0.9699 - val_loss: 0.0363 - val_acc: 0.9872\n",
      "Epoch 3/10\n",
      "19990/20000 [============================>.] - ETA: 2s - loss: 0.0541 - acc: 0.9809\n",
      "Epoch 00003: val_loss improved from 0.03630 to 0.03114, saving model to model_best.h5\n",
      "20000/20000 [==============================] - 5357s 268ms/step - loss: 0.0541 - acc: 0.9809 - val_loss: 0.0311 - val_acc: 0.9892\n",
      "Epoch 4/10\n",
      "19990/20000 [============================>.] - ETA: 2s - loss: 0.0420 - acc: 0.9854\n",
      "Epoch 00004: val_loss improved from 0.03114 to 0.03020, saving model to model_best.h5\n",
      "20000/20000 [==============================] - 5645s 282ms/step - loss: 0.0419 - acc: 0.9854 - val_loss: 0.0302 - val_acc: 0.9900\n",
      "Epoch 5/10\n",
      "19990/20000 [============================>.] - ETA: 2s - loss: 0.0328 - acc: 0.9883\n",
      "Epoch 00005: val_loss improved from 0.03020 to 0.02960, saving model to model_best.h5\n",
      "20000/20000 [==============================] - 5445s 272ms/step - loss: 0.0328 - acc: 0.9883 - val_loss: 0.0296 - val_acc: 0.9900\n",
      "Epoch 6/10\n",
      "19990/20000 [============================>.] - ETA: 2s - loss: 0.0278 - acc: 0.9905\n",
      "Epoch 00006: val_loss did not improve\n",
      "20000/20000 [==============================] - 5308s 265ms/step - loss: 0.0278 - acc: 0.9905 - val_loss: 0.0302 - val_acc: 0.9894\n",
      "Epoch 7/10\n",
      "19990/20000 [============================>.] - ETA: 2s - loss: 0.0199 - acc: 0.9933\n",
      "Epoch 00007: val_loss improved from 0.02960 to 0.02953, saving model to model_best.h5\n",
      "20000/20000 [==============================] - 5321s 266ms/step - loss: 0.0199 - acc: 0.9933 - val_loss: 0.0295 - val_acc: 0.9898\n",
      "Epoch 8/10\n",
      "19990/20000 [============================>.] - ETA: 2s - loss: 0.0167 - acc: 0.9943\n",
      "Epoch 00008: val_loss improved from 0.02953 to 0.02855, saving model to model_best.h5\n",
      "20000/20000 [==============================] - 5297s 265ms/step - loss: 0.0167 - acc: 0.9943 - val_loss: 0.0285 - val_acc: 0.9902\n",
      "Epoch 9/10\n",
      "19990/20000 [============================>.] - ETA: 2s - loss: 0.0159 - acc: 0.9947\n",
      "Epoch 00009: val_loss did not improve\n",
      "20000/20000 [==============================] - 5276s 264ms/step - loss: 0.0159 - acc: 0.9947 - val_loss: 0.0290 - val_acc: 0.9894\n",
      "Epoch 10/10\n",
      "19990/20000 [============================>.] - ETA: 2s - loss: 0.0128 - acc: 0.9963\n",
      "Epoch 00010: val_loss did not improve\n",
      "20000/20000 [==============================] - 5289s 264ms/step - loss: 0.0128 - acc: 0.9963 - val_loss: 0.0286 - val_acc: 0.9898\n"
     ]
    },
    {
     "data": {
      "text/plain": [
       "<keras.callbacks.History at 0x1a27e3584a8>"
      ]
     },
     "execution_count": 6,
     "metadata": {},
     "output_type": "execute_result"
    }
   ],
   "source": [
    "from keras.optimizers import SGD\n",
    "from keras.applications.resnet50 import ResNet50\n",
    "opt = SGD(lr=0.0001, momentum=0.9)\n",
    "myinput = Input(shape=(224, 224, 3))\n",
    "base_model = ResNet50(weights='imagenet', input_tensor=myinput, include_top=False)\n",
    "x = Flatten()(base_model.output)\n",
    "x = Dense(1024, activation='relu')(x)\n",
    "x = Dropout(0.5)(x)\n",
    "predictions = Dense(1, activation='sigmoid')(x)\n",
    "# this is the model we will train\n",
    "model = Model(myinput, predictions)\n",
    "model.compile(loss='binary_crossentropy', optimizer=opt, metrics=['accuracy'])\n",
    "best_model = ModelCheckpoint('model_best.h5', verbose=1, save_best_only=True)\n",
    "model.fit(train_x, train_y, validation_split=0.2, shuffle=True, batch_size=16, epochs=10, callbacks=[best_model])\n",
    "model.save('model_10.h5')"
   ]
  },
  {
   "cell_type": "markdown",
   "metadata": {},
   "source": [
    "## ------------------------------------------------------------------------------------------------------\n",
    "### 75% Dropout"
   ]
  },
  {
   "cell_type": "code",
   "execution_count": 4,
   "metadata": {},
   "outputs": [
    {
     "name": "stdout",
     "output_type": "stream",
     "text": [
      "Train on 20000 samples, validate on 5000 samples\n",
      "Epoch 1/10\n",
      "19984/20000 [============================>.] - ETA: 3s - loss: 0.2106 - acc: 0.9092\n",
      "Epoch 00001: val_loss improved from inf to 0.05018, saving model to model_best.h5\n",
      "20000/20000 [==============================] - 5164s 258ms/step - loss: 0.2105 - acc: 0.9092 - val_loss: 0.0502 - val_acc: 0.9854\n",
      "Epoch 2/10\n",
      "19984/20000 [============================>.] - ETA: 3s - loss: 0.0819 - acc: 0.9699\n",
      "Epoch 00002: val_loss improved from 0.05018 to 0.03850, saving model to model_best.h5\n",
      "20000/20000 [==============================] - 5244s 262ms/step - loss: 0.0819 - acc: 0.9699 - val_loss: 0.0385 - val_acc: 0.9872\n",
      "Epoch 3/10\n",
      "19984/20000 [============================>.] - ETA: 3s - loss: 0.0610 - acc: 0.9772\n",
      "Epoch 00003: val_loss improved from 0.03850 to 0.03489, saving model to model_best.h5\n",
      "20000/20000 [==============================] - 5178s 259ms/step - loss: 0.0610 - acc: 0.9771 - val_loss: 0.0349 - val_acc: 0.9880\n",
      "Epoch 4/10\n",
      "19984/20000 [============================>.] - ETA: 3s - loss: 0.0456 - acc: 0.9841\n",
      "Epoch 00004: val_loss improved from 0.03489 to 0.03298, saving model to model_best.h5\n",
      "20000/20000 [==============================] - 5251s 263ms/step - loss: 0.0456 - acc: 0.9841 - val_loss: 0.0330 - val_acc: 0.9886\n",
      "Epoch 5/10\n",
      "19984/20000 [============================>.] - ETA: 3s - loss: 0.0371 - acc: 0.9865\n",
      "Epoch 00005: val_loss improved from 0.03298 to 0.03106, saving model to model_best.h5\n",
      "20000/20000 [==============================] - 5050s 252ms/step - loss: 0.0372 - acc: 0.9865 - val_loss: 0.0311 - val_acc: 0.9890\n",
      "Epoch 6/10\n",
      "19984/20000 [============================>.] - ETA: 3s - loss: 0.0315 - acc: 0.9885\n",
      "Epoch 00006: val_loss improved from 0.03106 to 0.03022, saving model to model_best.h5\n",
      "20000/20000 [==============================] - 5065s 253ms/step - loss: 0.0315 - acc: 0.9886 - val_loss: 0.0302 - val_acc: 0.9898\n",
      "Epoch 7/10\n",
      "19984/20000 [============================>.] - ETA: 3s - loss: 0.0263 - acc: 0.9909\n",
      "Epoch 00007: val_loss improved from 0.03022 to 0.02980, saving model to model_best.h5\n",
      "20000/20000 [==============================] - 5122s 256ms/step - loss: 0.0263 - acc: 0.9909 - val_loss: 0.0298 - val_acc: 0.9902\n",
      "Epoch 8/10\n",
      "19984/20000 [============================>.] - ETA: 3s - loss: 0.0213 - acc: 0.9923\n",
      "Epoch 00008: val_loss improved from 0.02980 to 0.02937, saving model to model_best.h5\n",
      "20000/20000 [==============================] - 5072s 254ms/step - loss: 0.0215 - acc: 0.9922 - val_loss: 0.0294 - val_acc: 0.9906\n",
      "Epoch 9/10\n",
      "19984/20000 [============================>.] - ETA: 3s - loss: 0.0185 - acc: 0.9931\n",
      "Epoch 00009: val_loss did not improve\n",
      "20000/20000 [==============================] - 5049s 252ms/step - loss: 0.0185 - acc: 0.9931 - val_loss: 0.0297 - val_acc: 0.9896\n",
      "Epoch 10/10\n",
      "19984/20000 [============================>.] - ETA: 3s - loss: 0.0164 - acc: 0.9948\n",
      "Epoch 00010: val_loss did not improve\n",
      "20000/20000 [==============================] - 4931s 247ms/step - loss: 0.0163 - acc: 0.9948 - val_loss: 0.0301 - val_acc: 0.9906\n"
     ]
    }
   ],
   "source": [
    "from keras.optimizers import SGD\n",
    "from keras.applications.resnet50 import ResNet50\n",
    "opt = SGD(lr=0.0001, momentum=0.9)\n",
    "myinput = Input(shape=(224, 224, 3))\n",
    "base_model = ResNet50(weights='imagenet', input_tensor=myinput, include_top=False)\n",
    "x = Flatten()(base_model.output)\n",
    "x = Dense(1024, activation='relu')(x)\n",
    "x = Dropout(0.75)(x)\n",
    "predictions = Dense(1, activation='sigmoid')(x)\n",
    "# this is the model we will train\n",
    "model = Model(myinput, predictions)\n",
    "model.compile(loss='binary_crossentropy', optimizer=opt, metrics=['accuracy'])\n",
    "best_model = ModelCheckpoint('model_best.h5', verbose=1, save_best_only=True)\n",
    "model.fit(train_x, train_y, validation_split=0.2, shuffle=True, batch_size=16, epochs=10, callbacks=[best_model])\n",
    "model.save('model_10.h5')"
   ]
  },
  {
   "cell_type": "markdown",
   "metadata": {
    "collapsed": true
   },
   "source": [
    "## ------------------------------------------------------------------------------------------------------\n",
    "### Clean data"
   ]
  },
  {
   "cell_type": "code",
   "execution_count": 5,
   "metadata": {},
   "outputs": [
    {
     "name": "stdout",
     "output_type": "stream",
     "text": [
      "cat\\cat.10029.jpg\n",
      "cat\\cat.10266.jpg\n",
      "cat\\cat.10610.jpg\n",
      "cat\\cat.10712.jpg\n",
      "cat\\cat.11184.jpg\n",
      "cat\\cat.11222.jpg\n",
      "cat\\cat.11281.jpg\n",
      "cat\\cat.11565.jpg\n",
      "cat\\cat.12272.jpg\n",
      "cat\\cat.12499.jpg\n",
      "cat\\cat.1361.jpg\n",
      "cat\\cat.1962.jpg\n",
      "cat\\cat.2337.jpg\n",
      "cat\\cat.3202.jpg\n",
      "cat\\cat.3658.jpg\n",
      "cat\\cat.4085.jpg\n",
      "cat\\cat.4308.jpg\n",
      "cat\\cat.4360.jpg\n",
      "cat\\cat.4688.jpg\n",
      "cat\\cat.4986.jpg\n",
      "cat\\cat.5355.jpg\n",
      "cat\\cat.5418.jpg\n",
      "cat\\cat.5583.jpg\n",
      "cat\\cat.5795.jpg\n",
      "cat\\cat.5834.jpg\n",
      "cat\\cat.6304.jpg\n",
      "cat\\cat.6402.jpg\n",
      "cat\\cat.6655.jpg\n",
      "cat\\cat.7564.jpg\n",
      "cat\\cat.7655.jpg\n",
      "cat\\cat.7671.jpg\n",
      "cat\\cat.7703.jpg\n",
      "cat\\cat.7920.jpg\n",
      "cat\\cat.7968.jpg\n",
      "cat\\cat.8138.jpg\n",
      "cat\\cat.8456.jpg\n",
      "cat\\cat.8504.jpg\n",
      "cat\\cat.8828.jpg\n",
      "cat\\cat.9290.jpg\n",
      "cat\\cat.9596.jpg\n",
      "cat\\cat.9897.jpg\n"
     ]
    }
   ],
   "source": [
    "import os\n",
    "size = 224\n",
    "model_test = load_model('model_best.h5')\n",
    "cat_dir = glob.glob('cat/*.jpg')\n",
    "for file_name in cat_dir:        \n",
    "    img = image.load_img(file_name, target_size=(size, size))\n",
    "    x = image.img_to_array(img)\n",
    "    x = np.expand_dims(x, axis=0)\n",
    "    x = preprocess_input(x)\n",
    "    if model_test.predict(x) > 0.5:\n",
    "        print(file_name)\n",
    "        os.remove(file_name)"
   ]
  },
  {
   "cell_type": "code",
   "execution_count": 6,
   "metadata": {},
   "outputs": [
    {
     "name": "stdout",
     "output_type": "stream",
     "text": [
      "dog\\dog.10225.jpg\n",
      "dog\\dog.10524.jpg\n",
      "dog\\dog.10801.jpg\n",
      "dog\\dog.10939.jpg\n",
      "dog\\dog.11299.jpg\n",
      "dog\\dog.11300.jpg\n",
      "dog\\dog.11526.jpg\n",
      "dog\\dog.11731.jpg\n",
      "dog\\dog.12223.jpg\n",
      "dog\\dog.2614.jpg\n",
      "dog\\dog.3074.jpg\n",
      "dog\\dog.3341.jpg\n",
      "dog\\dog.3920.jpg\n",
      "dog\\dog.4334.jpg\n",
      "dog\\dog.4690.jpg\n",
      "dog\\dog.5251.jpg\n",
      "dog\\dog.5529.jpg\n",
      "dog\\dog.5767.jpg\n",
      "dog\\dog.6256.jpg\n",
      "dog\\dog.6921.jpg\n",
      "dog\\dog.7.jpg\n",
      "dog\\dog.7076.jpg\n",
      "dog\\dog.7332.jpg\n",
      "dog\\dog.7413.jpg\n",
      "dog\\dog.7692.jpg\n",
      "dog\\dog.8671.jpg\n",
      "dog\\dog.9517.jpg\n"
     ]
    }
   ],
   "source": [
    "import os\n",
    "size = 224\n",
    "model_test = load_model('model_best.h5')\n",
    "dog_dir = glob.glob('dog/*.jpg')\n",
    "for file_name in dog_dir:        \n",
    "    img = image.load_img(file_name, target_size=(size, size))\n",
    "    x = image.img_to_array(img)\n",
    "    x = np.expand_dims(x, axis=0)\n",
    "    x = preprocess_input(x)\n",
    "    if model_test.predict(x) < 0.5:\n",
    "        print(file_name)\n",
    "        os.remove(file_name)"
   ]
  },
  {
   "cell_type": "markdown",
   "metadata": {},
   "source": [
    "### Clean file to file name clean_train and train once more"
   ]
  },
  {
   "cell_type": "code",
   "execution_count": 7,
   "metadata": {},
   "outputs": [
    {
     "name": "stdout",
     "output_type": "stream",
     "text": [
      "File operation begin !\n",
      "file operation to clean_train done! 21.35 second spented\n"
     ]
    }
   ],
   "source": [
    "print('File operation begin !')\n",
    "t=time.time()\n",
    "clean_dog_files = os.listdir(DOG_PATH)\n",
    "clean_cat_files = os.listdir(CAT_PATH)\n",
    "for file in clean_dog_files:\n",
    "    shutil.copy(DOG_PATH + file, CLEAN_TRAIN + file)\n",
    "for file in clean_cat_files:\n",
    "    shutil.copy(CAT_PATH + file, CLEAN_TRAIN + file)\n",
    "t2 = time.time()\n",
    "print('file operation to clean_train done!', round(t2 - t, 2), 'second spented')"
   ]
  },
  {
   "cell_type": "markdown",
   "metadata": {},
   "source": [
    "## ------------------------------------------------------------------------------------------------------\n",
    "### 75% Dropout Retrain"
   ]
  },
  {
   "cell_type": "code",
   "execution_count": 3,
   "metadata": {},
   "outputs": [
    {
     "name": "stdout",
     "output_type": "stream",
     "text": [
      "Proprecessing begin !\n",
      "1170.75 seconds to preprocessing !\n"
     ]
    }
   ],
   "source": [
    "# cat 0  dog 1\n",
    "print('Proprecessing begin !')\n",
    "t=time.time()\n",
    "train_dir = glob.glob('clean_train/*.jpg')\n",
    "train_x, train_y = get_train_data1(train_dir)\n",
    "t2 = time.time()\n",
    "print(round(t2 - t, 2), 'seconds to preprocessing !')"
   ]
  },
  {
   "cell_type": "code",
   "execution_count": 4,
   "metadata": {},
   "outputs": [
    {
     "name": "stdout",
     "output_type": "stream",
     "text": [
      "Train on 19945 samples, validate on 4987 samples\n",
      "Epoch 1/10\n",
      "19936/19945 [============================>.] - ETA: 2s - loss: 0.1761 - acc: 0.9323\n",
      "Epoch 00001: val_loss improved from inf to 0.04538, saving model to model_best.h5\n",
      "19945/19945 [==============================] - 5182s 260ms/step - loss: 0.1762 - acc: 0.9323 - val_loss: 0.0454 - val_acc: 0.9880\n",
      "Epoch 2/10\n",
      "19936/19945 [============================>.] - ETA: 2s - loss: 0.0691 - acc: 0.9755\n",
      "Epoch 00002: val_loss improved from 0.04538 to 0.03252, saving model to model_best.h5\n",
      "19945/19945 [==============================] - 5002s 251ms/step - loss: 0.0691 - acc: 0.9755 - val_loss: 0.0325 - val_acc: 0.9908\n",
      "Epoch 3/10\n",
      "19936/19945 [============================>.] - ETA: 2s - loss: 0.0515 - acc: 0.9810\n",
      "Epoch 00003: val_loss improved from 0.03252 to 0.02635, saving model to model_best.h5\n",
      "19945/19945 [==============================] - 5040s 253ms/step - loss: 0.0515 - acc: 0.9810 - val_loss: 0.0264 - val_acc: 0.9916\n",
      "Epoch 4/10\n",
      "19936/19945 [============================>.] - ETA: 2s - loss: 0.0395 - acc: 0.9854\n",
      "Epoch 00004: val_loss improved from 0.02635 to 0.02282, saving model to model_best.h5\n",
      "19945/19945 [==============================] - 4993s 250ms/step - loss: 0.0395 - acc: 0.9854 - val_loss: 0.0228 - val_acc: 0.9918\n",
      "Epoch 5/10\n",
      "19936/19945 [============================>.] - ETA: 2s - loss: 0.0311 - acc: 0.9888\n",
      "Epoch 00005: val_loss improved from 0.02282 to 0.02017, saving model to model_best.h5\n",
      "19945/19945 [==============================] - 6052s 303ms/step - loss: 0.0311 - acc: 0.9888 - val_loss: 0.0202 - val_acc: 0.9928\n",
      "Epoch 6/10\n",
      "19936/19945 [============================>.] - ETA: 2s - loss: 0.0237 - acc: 0.9920\n",
      "Epoch 00006: val_loss improved from 0.02017 to 0.01880, saving model to model_best.h5\n",
      "19945/19945 [==============================] - 5140s 258ms/step - loss: 0.0237 - acc: 0.9920 - val_loss: 0.0188 - val_acc: 0.9936\n",
      "Epoch 7/10\n",
      "19936/19945 [============================>.] - ETA: 2s - loss: 0.0218 - acc: 0.9919\n",
      "Epoch 00007: val_loss did not improve\n",
      "19945/19945 [==============================] - 5105s 256ms/step - loss: 0.0218 - acc: 0.9919 - val_loss: 0.0189 - val_acc: 0.9930\n",
      "Epoch 8/10\n",
      "19936/19945 [============================>.] - ETA: 2s - loss: 0.0199 - acc: 0.9929\n",
      "Epoch 00008: val_loss improved from 0.01880 to 0.01825, saving model to model_best.h5\n",
      "19945/19945 [==============================] - 5025s 252ms/step - loss: 0.0199 - acc: 0.9929 - val_loss: 0.0183 - val_acc: 0.9934\n",
      "Epoch 9/10\n",
      "19936/19945 [============================>.] - ETA: 2s - loss: 0.0162 - acc: 0.9948\n",
      "Epoch 00009: val_loss did not improve\n",
      "19945/19945 [==============================] - 5006s 251ms/step - loss: 0.0162 - acc: 0.9948 - val_loss: 0.0190 - val_acc: 0.9928\n",
      "Epoch 10/10\n",
      "19936/19945 [============================>.] - ETA: 2s - loss: 0.0139 - acc: 0.9959\n",
      "Epoch 00010: val_loss improved from 0.01825 to 0.01776, saving model to model_best.h5\n",
      "19945/19945 [==============================] - 5039s 253ms/step - loss: 0.0139 - acc: 0.9958 - val_loss: 0.0178 - val_acc: 0.9932\n"
     ]
    }
   ],
   "source": [
    "from keras.optimizers import SGD\n",
    "from keras.applications.resnet50 import ResNet50\n",
    "opt = SGD(lr=0.0001, momentum=0.9)\n",
    "myinput = Input(shape=(224, 224, 3))\n",
    "base_model = ResNet50(weights='imagenet', input_tensor=myinput, include_top=False)\n",
    "x = Flatten()(base_model.output)\n",
    "x = Dense(1024, activation='relu')(x)\n",
    "x = Dropout(0.75)(x)\n",
    "predictions = Dense(1, activation='sigmoid')(x)\n",
    "# this is the model we will train\n",
    "model = Model(myinput, predictions)\n",
    "model.compile(loss='binary_crossentropy', optimizer=opt, metrics=['accuracy'])\n",
    "best_model = ModelCheckpoint('model_best.h5', verbose=1, save_best_only=True)\n",
    "model.fit(train_x, train_y, validation_split=0.2, shuffle=True, batch_size=16, epochs=10, callbacks=[best_model])\n",
    "model.save('model_10.h5')"
   ]
  },
  {
   "cell_type": "markdown",
   "metadata": {
    "collapsed": true
   },
   "source": [
    "## ------------------------------------------------------------------------------------------------------\n",
    "### Drawing model"
   ]
  },
  {
   "cell_type": "code",
   "execution_count": 4,
   "metadata": {},
   "outputs": [],
   "source": [
    "from keras.models import load_model\n",
    "model = load_model('model_best.h5')\n",
    "from keras.utils.vis_utils import plot_model\n",
    "plot_model(model, to_file='model_display.png',show_shapes=True)"
   ]
  },
  {
   "cell_type": "markdown",
   "metadata": {},
   "source": [
    "## ------------------------------------------------------------------------------------------------------\n",
    "### Testing"
   ]
  },
  {
   "cell_type": "code",
   "execution_count": 2,
   "metadata": {
    "collapsed": true
   },
   "outputs": [],
   "source": [
    "import os\n",
    "size = 224\n",
    "test_dir = glob.glob('test/*.jpg')\n",
    "mytest = np.zeros((12500, size, size, 3), dtype=np.float32)\n",
    "for file_name in (test_dir):\n",
    "    index = int(file_name[6:-4]) - 1\n",
    "    img = image.load_img(file_name, target_size=(size, size))\n",
    "    x = image.img_to_array(img)\n",
    "    x = np.expand_dims(x, axis=0)\n",
    "    mytest[index] = preprocess_input(x)"
   ]
  },
  {
   "cell_type": "markdown",
   "metadata": {},
   "source": [
    "## ------------------------------------------------------------------------------------------------------\n",
    "### Write in file"
   ]
  },
  {
   "cell_type": "code",
   "execution_count": 3,
   "metadata": {},
   "outputs": [],
   "source": [
    "##predict\n",
    "with open('file_result.csv','w') as f:\n",
    "    f.write('id,label\\n')\n",
    "\n",
    "model_test = load_model('model_best.h5')\n",
    "\n",
    "with open('file_result.csv','a') as f:\n",
    "    for i in range(len(test_dir)):\n",
    "        predict = model_test.predict(mytest[i:i+1])\n",
    "        predict = predict[0][0]\n",
    "        f.write('{},{}\\n'.format(i+1,predict))"
   ]
  }
 ],
 "metadata": {
  "anaconda-cloud": {},
  "kernelspec": {
   "display_name": "Python 3",
   "language": "python",
   "name": "python3"
  },
  "language_info": {
   "codemirror_mode": {
    "name": "ipython",
    "version": 3
   },
   "file_extension": ".py",
   "mimetype": "text/x-python",
   "name": "python",
   "nbconvert_exporter": "python",
   "pygments_lexer": "ipython3",
   "version": "3.6.4"
  }
 },
 "nbformat": 4,
 "nbformat_minor": 1
}
