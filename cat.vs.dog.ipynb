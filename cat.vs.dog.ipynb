{
 "cells": [
  {
   "cell_type": "code",
   "execution_count": 1,
   "metadata": {},
   "outputs": [],
   "source": [
    "dogs = [\n",
    " 'n02085620','n02085782','n02085936','n02086079'\n",
    ",'n02086240','n02086646','n02086910','n02087046'\n",
    ",'n02087394','n02088094','n02088238','n02088364'\n",
    ",'n02088466','n02088632','n02089078','n02089867'\n",
    ",'n02089973','n02090379','n02090622','n02090721'\n",
    ",'n02091032','n02091134','n02091244','n02091467'\n",
    ",'n02091635','n02091831','n02092002','n02092339'\n",
    ",'n02093256','n02093428','n02093647','n02093754'\n",
    ",'n02093859','n02093991','n02094114','n02094258'\n",
    ",'n02094433','n02095314','n02095570','n02095889'\n",
    ",'n02096051','n02096177','n02096294','n02096437'\n",
    ",'n02096585','n02097047','n02097130','n02097209'\n",
    ",'n02097298','n02097474','n02097658','n02098105'\n",
    ",'n02098286','n02098413','n02099267','n02099429'\n",
    ",'n02099601','n02099712','n02099849','n02100236'\n",
    ",'n02100583','n02100735','n02100877','n02101006'\n",
    ",'n02101388','n02101556','n02102040','n02102177'\n",
    ",'n02102318','n02102480','n02102973','n02104029'\n",
    ",'n02104365','n02105056','n02105162','n02105251'\n",
    ",'n02105412','n02105505','n02105641','n02105855'\n",
    ",'n02106030','n02106166','n02106382','n02106550'\n",
    ",'n02106662','n02107142','n02107312','n02107574'\n",
    ",'n02107683','n02107908','n02108000','n02108089'\n",
    ",'n02108422','n02108551','n02108915','n02109047'\n",
    ",'n02109525','n02109961','n02110063','n02110185'\n",
    ",'n02110341','n02110627','n02110806','n02110958'\n",
    ",'n02111129','n02111277','n02111500','n02111889'\n",
    ",'n02112018','n02112137','n02112350','n02112706'\n",
    ",'n02113023','n02113186','n02113624','n02113712'\n",
    ",'n02113799','n02113978']\n",
    "\n",
    "cats=['n02123045','n02123159','n02123394','n02123597','n02124075','n02125311','n02127052']"
   ]
  },
  {
   "cell_type": "markdown",
   "metadata": {},
   "source": [
    "## 文件操作"
   ]
  },
  {
   "cell_type": "code",
   "execution_count": 1,
   "metadata": {},
   "outputs": [],
   "source": [
    "import os\n",
    "import shutil \n",
    "import random\n",
    "from tqdm import *\n",
    "\n",
    "TRAIN_PATH = \"./train/\"\n",
    "TEST_PATH = \"./test/\"\n",
    "\n",
    "def checkDir(dir_path):\n",
    "    if not os.path.exists(dir_path):\n",
    "        os.makedirs(dir_path)\n",
    "checkDir('train_link')\n",
    "checkDir('train_link/dog')\n",
    "checkDir('train_link/cat')\n",
    "checkDir('test_link')\n",
    "train_files = os.listdir(TRAIN_PATH)"
   ]
  },
  {
   "cell_type": "code",
   "execution_count": 2,
   "metadata": {},
   "outputs": [],
   "source": [
    "def createLink():\n",
    "    train_files = os.listdir(TRAIN_PATH)\n",
    "    os.symlink('../test/', 'test_link/test')\n",
    "    for filename in tqdm(train_files):\n",
    "        if 'dog' in filename:\n",
    "            if os.path.exists('train_link/dog/' + filename):\n",
    "                continue\n",
    "            os.symlink('../../train/'+filename, 'train_link/dog/' + filename)\n",
    "        else:\n",
    "            if os.path.exists('train_link/cat/' + filename):\n",
    "                continue\n",
    "            os.symlink('../../train/' + filename, 'train_link/cat/' + filename)"
   ]
  },
  {
   "cell_type": "code",
   "execution_count": 3,
   "metadata": {},
   "outputs": [],
   "source": [
    "import json\n",
    "def readOutliers():\n",
    "    with open('outliers.json', 'r') as json_file:\n",
    "        return json.load(json_file)"
   ]
  },
  {
   "cell_type": "code",
   "execution_count": 4,
   "metadata": {},
   "outputs": [],
   "source": [
    "def writeOutliers(key, files):\n",
    "    with open('outliers.json', 'r+') as json_file:\n",
    "            try:\n",
    "                outliers_dict = json.load(json_file)\n",
    "#                 print(outliers_dict)\n",
    "            except:\n",
    "                outliers_dict = {}\n",
    "            outliers_dict[key] = files\n",
    "            json_file.close()\n",
    "    with open('outliers.json','w') as json_file:\n",
    "        json_file.write(json.dumps(outliers_dict))\n",
    "        json_file.close()\n",
    "        \n",
    "# writeOutliers('key3',['1','2','3','555'])"
   ]
  },
  {
   "cell_type": "markdown",
   "metadata": {},
   "source": [
    "### 数据处理"
   ]
  },
  {
   "cell_type": "code",
   "execution_count": 20,
   "metadata": {},
   "outputs": [],
   "source": [
    "import cv2\n",
    "import glob\n",
    "import time\n",
    "import numpy as np\n",
    "import matplotlib.pyplot as plt\n",
    "from matplotlib import pylab as plb\n",
    "from keras.models import Model\n",
    "from keras.layers import Input, Flatten, Dropout, Dense,Lambda\n",
    "from keras.models import load_model\n",
    "from keras.callbacks import ModelCheckpoint\n",
    "from sklearn.utils import shuffle\n",
    "from keras.preprocessing import image\n",
    "from keras.applications.resnet50 import preprocess_input, decode_predictions\n",
    "from keras.applications import Xception, InceptionResNetV2, DenseNet201\n",
    "import json as js\n",
    "from tqdm import *\n",
    "from keras.preprocessing.image import *\n",
    "import h5py\n",
    "from keras.applications import *\n",
    "from keras.layers import GlobalAveragePooling2D\n",
    "from keras.callbacks import EarlyStopping, ModelCheckpoint, TensorBoard\n"
   ]
  },
  {
   "cell_type": "code",
   "execution_count": 6,
   "metadata": {},
   "outputs": [],
   "source": [
    "import sys\n",
    "def get_train_test_data(height, doc_files = train_files):\n",
    "    labels = np.zeros(len(train_files))\n",
    "    train = np.zeros((len(train_files), height, height, 3), dtype=np.uint8)\n",
    "    test = np.zeros((12500, height, height, 3), dtype=np.uint8)\n",
    "    for idx, file in enumerate(tqdm(train_files)):\n",
    "        img = cv2.imread(TRAIN_PATH + file)\n",
    "        img = cv2.resize(img, (height, height))\n",
    "        train[idx] = img[:, :, ::-1]\n",
    "        if 'dog' in file:\n",
    "            labels[idx] = 1\n",
    "    for i in tqdm(range(12500)):\n",
    "        img = cv2.imread('./test/%s.jpg' % str(i + 1))\n",
    "        img = cv2.resize(img, (height, height))\n",
    "        test[i] = img[:, :, ::-1]\n",
    "    print('Training Data Size = %.2f GB' % (sys.getsizeof(train)/1024**3))\n",
    "    print('Testing Data Size = %.2f GB' % (sys.getsizeof(test)/1024**3))\n",
    "    return train, test,labels"
   ]
  },
  {
   "cell_type": "markdown",
   "metadata": {},
   "source": [
    "###  数据可视化"
   ]
  },
  {
   "cell_type": "code",
   "execution_count": 6,
   "metadata": {},
   "outputs": [],
   "source": [
    "imgs = []\n",
    "for file in train_files:\n",
    "    img = cv2.imread(TRAIN_PATH + file)\n",
    "    imgs.append(img.shape[0:2])\n",
    "#     break\n",
    "    \n",
    "imgs = np.array(imgs)\n",
    "x = imgs[:,0]\n",
    "y = imgs[:,1]"
   ]
  },
  {
   "cell_type": "code",
   "execution_count": 7,
   "metadata": {},
   "outputs": [
    {
     "name": "stdout",
     "output_type": "stream",
     "text": [
      "Populating the interactive namespace from numpy and matplotlib\n"
     ]
    },
    {
     "name": "stderr",
     "output_type": "stream",
     "text": [
      "/home/ec2-user/anaconda3/lib/python3.6/site-packages/IPython/core/magics/pylab.py:160: UserWarning: pylab import has clobbered these variables: ['random', '__version__', 'shuffle']\n",
      "`%matplotlib` prevents importing * from pylab and numpy\n",
      "  \"\\n`%matplotlib` prevents importing * from pylab and numpy\"\n"
     ]
    },
    {
     "data": {
      "image/png": "[encoded data removed]",
      "text/plain": [
       "<Figure size 432x288 with 1 Axes>"
      ]
     },
     "metadata": {},
     "output_type": "display_data"
    }
   ],
   "source": [
    "%pylab inline\n",
    "plt.title('cat-width-height')\n",
    "plt.xlabel('Width')\n",
    "plt.ylabel('Height')\n",
    "plt.scatter(x, y, alpha = 0.6)\n",
    "plt.show()"
   ]
  },
  {
   "cell_type": "markdown",
   "metadata": {},
   "source": [
    "### 数据预处理\n",
    "- 加载ImageNet猫狗的预测结果对比数据\n",
    "\n",
    "- 结合 Xception，InceptionResNetV2， DenseNet201 完成异常值检测"
   ]
  },
  {
   "cell_type": "code",
   "execution_count": 6,
   "metadata": {},
   "outputs": [
    {
     "name": "stdout",
     "output_type": "stream",
     "text": [
      "Populating the interactive namespace from numpy and matplotlib\n"
     ]
    },
    {
     "name": "stderr",
     "output_type": "stream",
     "text": [
      "/home/ec2-user/anaconda3/lib/python3.6/site-packages/IPython/core/magics/pylab.py:160: UserWarning: pylab import has clobbered these variables: ['shuffle', 'random', '__version__']\n",
      "`%matplotlib` prevents importing * from pylab and numpy\n",
      "  \"\\n`%matplotlib` prevents importing * from pylab and numpy\"\n"
     ]
    },
    {
     "data": {
      "text/plain": [
       "<Figure size 432x288 with 0 Axes>"
      ]
     },
     "metadata": {},
     "output_type": "display_data"
    }
   ],
   "source": [
    "%pylab inline\n",
    "from PIL import Image\n",
    "subplots_adjust(left=0.0,bottom=0.0,top=0.1,right=0.1,hspace = 0)\n",
    "def showImge(files, doc= './train/', size = (12,12)):\n",
    "    fig = plt.figure(num= 'astronaut',figsize=size)\n",
    "    row = int(len(files) / 5 if len(files) % 5 == 0 else len(files) / 5 + 1)\n",
    "#     print(row)\n",
    "    for idx,file in enumerate(tqdm(files)):\n",
    "        img = Image.open(doc + file)    \n",
    "        plt.axis('on') # 关掉坐标轴为 off\n",
    "        plt.subplot(row,5,idx + 1)\n",
    "        plt.tight_layout()\n",
    "        plt.title(file)\n",
    "        fig.set_size_inches(20.5, 20.5 * row / 5,forward=True)\n",
    "        plt.imshow(img)\n",
    "    plt.show()\n",
    "# %pylab inline"
   ]
  },
  {
   "cell_type": "code",
   "execution_count": 7,
   "metadata": {},
   "outputs": [],
   "source": [
    "def process_outliers(files,model,preprocess_input, target_size=(299, 299),top = 20):\n",
    "    outlier_files = []\n",
    "    np_cats = np.array(cats)\n",
    "    np_dogs = np.array(dogs)\n",
    "    for file in tqdm(files):\n",
    "        img = image.load_img(TRAIN_PATH + file, target_size=target_size)\n",
    "    #     print(\"file:\", file)\n",
    "        x = image.img_to_array(img)\n",
    "        x = np.expand_dims(x, axis=0)\n",
    "        x = preprocess_input(x)\n",
    "        preds = model.predict(x)\n",
    "        pred = decode_predictions(preds, top= top)[0]\n",
    "        # 取交集\n",
    "        if 'dog' in file:\n",
    "            intersections = np.intersect1d(np.array(pred)[:,0],np_dogs)\n",
    "        else:\n",
    "            intersections = np.intersect1d(np.array(pred)[:,0],np_cats)\n",
    "\n",
    "        if len(intersections) == 0:\n",
    "            outlier_files.append(file)\n",
    "    return outlier_files"
   ]
  },
  {
   "cell_type": "markdown",
   "metadata": {},
   "source": [
    "##### 使用 Xception， InceptionResNetV2，InceptionV3，DenseNet201，分别取不同合理的top对数据检测异常值"
   ]
  },
  {
   "cell_type": "code",
   "execution_count": 8,
   "metadata": {},
   "outputs": [],
   "source": [
    "# Xception \n",
    "from keras.applications.xception import preprocess_input as pre_x\n",
    "model = Xception(include_top=True,weights='imagenet')"
   ]
  },
  {
   "cell_type": "code",
   "execution_count": 8,
   "metadata": {},
   "outputs": [
    {
     "name": "stderr",
     "output_type": "stream",
     "text": [
      "100%|██████████| 1000/1000 [03:19<00:00,  5.02it/s]\n"
     ]
    }
   ],
   "source": [
    "# 先取1000个数据，使用top= 10,20,30,40,50 对数据检查异常值\n",
    "outliers = process_outliers(train_files[:1000],model,pre_x,top=10)\n",
    "# showImge(outliers)"
   ]
  },
  {
   "cell_type": "markdown",
   "metadata": {},
   "source": [
    "##### Top = 10，误差还是很大的，对已经1000张已经检测出是异常值的猫狗图片，top = 20重新进行筛选检测。"
   ]
  },
  {
   "cell_type": "code",
   "execution_count": null,
   "metadata": {},
   "outputs": [],
   "source": [
    "outliers_20 = process_outliers(outliers,model,pre_x,top=20)\n",
    "# showImge(outliers_20)"
   ]
  },
  {
   "cell_type": "markdown",
   "metadata": {},
   "source": [
    "###### 发现top=20 还是有点误差，将\btop=30，40，50，60,70,80,检测范围提升至5000"
   ]
  },
  {
   "cell_type": "code",
   "execution_count": null,
   "metadata": {},
   "outputs": [],
   "source": [
    "# top 30 检测大小提升至5000\n",
    "outliers_80 = process_outliers(outliers_70,model,pre_x,top=80)\n",
    "# showImge(outliers_80)"
   ]
  },
  {
   "cell_type": "markdown",
   "metadata": {},
   "source": [
    "##### TOP 调整至80后，发现异常值误差有明显的降低，使用top = 80 对所有的训练集做检测。"
   ]
  },
  {
   "cell_type": "code",
   "execution_count": null,
   "metadata": {},
   "outputs": [],
   "source": [
    "outliers_Vception = process_outliers(outliers_Vception,model,pre_x, top=80)\n",
    "# showImge(outliers_Vception)"
   ]
  },
  {
   "cell_type": "code",
   "execution_count": 22,
   "metadata": {},
   "outputs": [],
   "source": [
    "### 将此模型的异常值保存为json文件\n",
    "writeOutliers('Xception',outliers_Vception)"
   ]
  },
  {
   "cell_type": "markdown",
   "metadata": {},
   "source": [
    "#### 调整top提高精确度"
   ]
  },
  {
   "cell_type": "code",
   "execution_count": 16,
   "metadata": {},
   "outputs": [
    {
     "name": "stderr",
     "output_type": "stream",
     "text": [
      "100%|██████████| 42/42 [00:01<00:00, 24.03it/s]\n"
     ]
    }
   ],
   "source": [
    "outliers_Xception = readOutliers()['Xception']\n",
    "outliers_Xception = process_outliers(outliers_Xception, model,pre_x, top=110)\n",
    "# showImge(outliers_Xception)\n",
    "writeOutliers('Xception_110',outliers_Xception)"
   ]
  },
  {
   "cell_type": "markdown",
   "metadata": {},
   "source": [
    "##### InceptionResNetV2 检测异常值"
   ]
  },
  {
   "cell_type": "code",
   "execution_count": 13,
   "metadata": {},
   "outputs": [],
   "source": [
    "from keras.applications.inception_resnet_v2 import preprocess_input as pre_ResNetV2\n",
    "resNetV2Model = InceptionResNetV2(weights= 'imagenet')"
   ]
  },
  {
   "cell_type": "code",
   "execution_count": null,
   "metadata": {},
   "outputs": [],
   "source": [
    "outliers_InceptionResNetV2 = process_outliers(outliers_InceptionResNetV2, resNetV2Model,pre_ResNetV2, top=80)\n",
    "writeOutliers('InceptionResNetV2',outliers_InceptionResNetV2)"
   ]
  },
  {
   "cell_type": "code",
   "execution_count": 21,
   "metadata": {},
   "outputs": [
    {
     "name": "stderr",
     "output_type": "stream",
     "text": [
      "100%|██████████| 39/39 [00:03<00:00, 11.16it/s]\n"
     ]
    }
   ],
   "source": [
    "outliers_InceptionResNetV2 = readOutliers()['InceptionResNetV2']\n",
    "outliers_InceptionResNetV2 = process_outliers(outliers_InceptionResNetV2, resNetV2Model,pre_ResNetV2, top=120)\n",
    "# showImge(outliers_InceptionResNetV2)\n",
    "writeOutliers('InceptionResNetV2_120',outliers_InceptionResNetV2)"
   ]
  },
  {
   "cell_type": "markdown",
   "metadata": {},
   "source": [
    "#### 使用DenseNet201检测异常值调整top。"
   ]
  },
  {
   "cell_type": "code",
   "execution_count": 22,
   "metadata": {},
   "outputs": [],
   "source": [
    "from keras.applications.densenet import preprocess_input as dense_pre\n",
    "dense_model = DenseNet201(weights='imagenet')"
   ]
  },
  {
   "cell_type": "code",
   "execution_count": 10,
   "metadata": {},
   "outputs": [
    {
     "name": "stderr",
     "output_type": "stream",
     "text": [
      "100%|██████████| 25000/25000 [32:12<00:00, 12.93it/s]\n"
     ]
    }
   ],
   "source": [
    "outliers_dense = process_outliers(train_files, dense_model, dense_pre, top=80,target_size=(224,224))"
   ]
  },
  {
   "cell_type": "code",
   "execution_count": 25,
   "metadata": {},
   "outputs": [
    {
     "name": "stderr",
     "output_type": "stream",
     "text": [
      "100%|██████████| 42/42 [00:03<00:00, 12.59it/s]\n"
     ]
    }
   ],
   "source": [
    "outliers_dense = readOutliers()['DenseNet201']\n",
    "outliers_dense = process_outliers(outliers_dense, dense_model, dense_pre, top=100,target_size=(224,224))\n",
    "writeOutliers('DenseNet201_100',outliers_dense)\n",
    "# showImge(outliers_dense)"
   ]
  },
  {
   "cell_type": "markdown",
   "metadata": {},
   "source": [
    "##### 使用InceptionV3继续检测"
   ]
  },
  {
   "cell_type": "code",
   "execution_count": 26,
   "metadata": {},
   "outputs": [],
   "source": [
    "from keras.applications.inception_v3 import preprocess_input as v3_pre\n",
    "from keras.applications import InceptionV3\n",
    "v3_model = InceptionV3(weights = 'imagenet')"
   ]
  },
  {
   "cell_type": "code",
   "execution_count": 39,
   "metadata": {},
   "outputs": [],
   "source": [
    "# outliers_v3 = process_outliers(train_files, v3_model, v3_pre, top= 80, target_size = (224, 224))\n",
    "# showImge(outliers_v3)\n",
    "writeOutliers('InceptionV3', outliers_v3)"
   ]
  },
  {
   "cell_type": "code",
   "execution_count": 35,
   "metadata": {},
   "outputs": [
    {
     "name": "stderr",
     "output_type": "stream",
     "text": [
      "100%|██████████| 64/64 [00:02<00:00, 25.11it/s]\n"
     ]
    }
   ],
   "source": [
    "outliers_v3 = readOutliers()['InceptionV3']\n",
    "outliers_v3 = process_outliers(outliers_v3, v3_model, v3_pre, top= 190, target_size = (224, 224))\n",
    "# showImge(outliers_v3) \n",
    "writeOutliers('InceptionV3_190',outliers_v3)"
   ]
  },
  {
   "cell_type": "markdown",
   "metadata": {},
   "source": [
    "### 对以上四个模型的异常值取并集"
   ]
  },
  {
   "cell_type": "code",
   "execution_count": 7,
   "metadata": {
    "scrolled": false
   },
   "outputs": [],
   "source": [
    "def getAllOutliers():\n",
    "    out_keys = ['Xception_110', 'InceptionResNetV2_120', 'DenseNet201_120', 'InceptionV3_190']\n",
    "    outliers = []\n",
    "    outliersDict = readOutliers()\n",
    "    for k in out_keys:\n",
    "        outliers = list(set(outliers).union(set(readOutliers()[k])))\n",
    "    return outliers\n",
    "# len(getAllOutliers())\n",
    "# showImge(getAllOutliers())\n",
    "# writeOutliers('outliers_all',getAllOutliers())\n",
    "for file in getAllOutliers():\n",
    "    os.remove(TRAIN_PATH + file)\n",
    "    if 'dog' in file:\n",
    "        os.remove('train_link/dog/' + file)\n",
    "    else:\n",
    "        os.remove('train_link/cat/' + file)"
   ]
  },
  {
   "cell_type": "markdown",
   "metadata": {},
   "source": [
    "### 数据预处理"
   ]
  },
  {
   "cell_type": "code",
   "execution_count": 38,
   "metadata": {},
   "outputs": [
    {
     "name": "stderr",
     "output_type": "stream",
     "text": [
      "100%|██████████| 24957/24957 [01:10<00:00, 356.32it/s]\n",
      "100%|██████████| 12500/12500 [00:35<00:00, 355.27it/s]\n"
     ]
    },
    {
     "name": "stdout",
     "output_type": "stream",
     "text": [
      "Training Data Size = 6.23 GB\n",
      "Testing Data Size = 3.12 GB\n"
     ]
    }
   ],
   "source": [
    "train, test,labels = get_train_test_data(299)"
   ]
  },
  {
   "cell_type": "code",
   "execution_count": 40,
   "metadata": {},
   "outputs": [],
   "source": [
    "def get_features_gap(MODEL, target_size, lambda_func = None):\n",
    "    # Preprocess: Standardization\n",
    "    input_tensor = Input((target_size[1], target_size[0], 3))\n",
    "    x = input_tensor\n",
    "    if lambda_func:\n",
    "        x = Lambda(lambda_func)(x)\n",
    "    # Base Model: Extract feature vector of both train & test dataset\n",
    "    base_model = MODEL(input_tensor = x, weights='imagenet', include_top=False, pooling = 'avg')\n",
    "#     model = Model(base_model.input, GlobalAveragePooling2D()(base_model.output))\n",
    "    train_gap = base_model.predict(train, batch_size=128)\n",
    "    test_gap = base_model.predict(test, batch_size=128)\n",
    "    with h5py.File(\"gap_%s.h5\"%MODEL.__name__) as h:\n",
    "        h.create_dataset(\"train\", data=train_gap)\n",
    "        h.create_dataset(\"test\", data=test_gap)\n",
    "        h.create_dataset(\"label\", data=labels)"
   ]
  },
  {
   "cell_type": "code",
   "execution_count": 41,
   "metadata": {},
   "outputs": [],
   "source": [
    "get_features_gap(InceptionV3, (299,299), inception_v3.preprocess_input)"
   ]
  },
  {
   "cell_type": "code",
   "execution_count": 43,
   "metadata": {},
   "outputs": [
    {
     "name": "stderr",
     "output_type": "stream",
     "text": [
      "100%|██████████| 24957/24957 [00:59<00:00, 420.47it/s]\n",
      "100%|██████████| 12500/12500 [00:29<00:00, 421.59it/s]\n"
     ]
    },
    {
     "name": "stdout",
     "output_type": "stream",
     "text": [
      "Training Data Size = 3.50 GB\n",
      "Testing Data Size = 1.75 GB\n"
     ]
    }
   ],
   "source": [
    "train, test,labels = get_train_test_data(224)\n",
    "get_features_gap(ResNet50, (224,224), resnet50.preprocess_input)"
   ]
  },
  {
   "cell_type": "code",
   "execution_count": null,
   "metadata": {},
   "outputs": [
    {
     "name": "stderr",
     "output_type": "stream",
     "text": [
      "100%|██████████| 24957/24957 [01:09<00:00, 356.68it/s]\n",
      "100%|██████████| 12500/12500 [00:35<00:00, 355.98it/s]\n"
     ]
    },
    {
     "name": "stdout",
     "output_type": "stream",
     "text": [
      "Training Data Size = 6.23 GB\n",
      "Testing Data Size = 3.12 GB\n",
      "Downloading data from https://github.com/fchollet/deep-learning-models/releases/download/v0.7/inception_resnet_v2_weights_tf_dim_ordering_tf_kernels_notop.h5\n",
      "219062272/219055592 [==============================] - 2s 0us/step\n"
     ]
    }
   ],
   "source": [
    "train, test,labels = get_train_test_data(299)\n",
    "get_features_gap(InceptionResNetV2, (299,299), inception_resnet_v2.preprocess_input)"
   ]
  },
  {
   "cell_type": "markdown",
   "metadata": {},
   "source": [
    "### 模型融合"
   ]
  },
  {
   "cell_type": "code",
   "execution_count": 26,
   "metadata": {},
   "outputs": [],
   "source": [
    "from sklearn.utils import shuffle\n",
    "np.random.seed(2017)\n",
    "x_train = []\n",
    "x_test = []\n",
    "for file in ['gap_InceptionV3', 'gap_InceptionResNetV2', 'gap_ResNet50']:\n",
    "    with h5py.File(file + '.h5', 'r') as h:\n",
    "        x_train.append(np.array(h['train']))\n",
    "        x_test.append(np.array(h['test']))\n",
    "        y_train = np.array(h['label'])\n",
    "x_train = np.concatenate(x_train, axis=1)\n",
    "x_test = np.concatenate(x_test, axis=1)\n",
    "x_train, y_train = shuffle(x_train, y_train)"
   ]
  },
  {
   "cell_type": "code",
   "execution_count": 27,
   "metadata": {},
   "outputs": [
    {
     "name": "stdout",
     "output_type": "stream",
     "text": [
      "_________________________________________________________________\n",
      "Layer (type)                 Output Shape              Param #   \n",
      "=================================================================\n",
      "input_5 (InputLayer)         (None, 5632)              0         \n",
      "_________________________________________________________________\n",
      "dropout_5 (Dropout)          (None, 5632)              0         \n",
      "_________________________________________________________________\n",
      "classifier (Dense)           (None, 1)                 5633      \n",
      "=================================================================\n",
      "Total params: 5,633\n",
      "Trainable params: 5,633\n",
      "Non-trainable params: 0\n",
      "_________________________________________________________________\n",
      "None\n"
     ]
    }
   ],
   "source": [
    "from sklearn.model_selection import train_test_split\n",
    "\n",
    "X_train_gap, X_val_gap, y_train_gap, y_val_gap = train_test_split(x_train, y_train, shuffle=True, test_size=0.2,\\\n",
    "                                                                  random_state=42)\n",
    "# Input Shape: (Batch Size, Feature Vector length)\n",
    "x = Input(shape=(X_train_gap.shape[1],))\n",
    "y = Dropout(0.2)(x)\n",
    "y = Dense(1, activation='sigmoid', kernel_initializer='he_normal', name='classifier')(y)\n",
    "model_gap = Model(inputs=x, outputs=y, name='GAP')\n",
    "model_gap.compile(loss='binary_crossentropy', optimizer='adadelta', metrics=['accuracy'])\n",
    "print(model_gap.summary())"
   ]
  },
  {
   "cell_type": "code",
   "execution_count": 28,
   "metadata": {},
   "outputs": [
    {
     "name": "stdout",
     "output_type": "stream",
     "text": [
      "Train on 19965 samples, validate on 4992 samples\n",
      "Epoch 1/10\n",
      "19965/19965 [==============================] - 4s 212us/step - loss: 0.0229 - acc: 0.9934 - val_loss: 0.0112 - val_acc: 0.9972\n",
      "Epoch 2/10\n",
      "19965/19965 [==============================] - 4s 209us/step - loss: 0.0135 - acc: 0.9957 - val_loss: 0.0133 - val_acc: 0.9966\n",
      "Epoch 3/10\n",
      "19965/19965 [==============================] - 4s 212us/step - loss: 0.0119 - acc: 0.9965 - val_loss: 0.0125 - val_acc: 0.9970\n",
      "Epoch 4/10\n",
      "19965/19965 [==============================] - 4s 213us/step - loss: 0.0107 - acc: 0.9967 - val_loss: 0.0113 - val_acc: 0.9976\n",
      "Epoch 5/10\n",
      "19965/19965 [==============================] - 4s 208us/step - loss: 0.0095 - acc: 0.9974 - val_loss: 0.0123 - val_acc: 0.9974\n",
      "Epoch 6/10\n",
      "19965/19965 [==============================] - 4s 214us/step - loss: 0.0091 - acc: 0.9976 - val_loss: 0.0124 - val_acc: 0.9972\n",
      "Epoch 7/10\n",
      "19965/19965 [==============================] - 4s 215us/step - loss: 0.0087 - acc: 0.9973 - val_loss: 0.0127 - val_acc: 0.9972\n",
      "Epoch 8/10\n",
      "19965/19965 [==============================] - 4s 217us/step - loss: 0.0074 - acc: 0.9981 - val_loss: 0.0126 - val_acc: 0.9974\n",
      "Epoch 9/10\n",
      "19965/19965 [==============================] - 4s 223us/step - loss: 0.0074 - acc: 0.9979 - val_loss: 0.0136 - val_acc: 0.9972\n",
      "Epoch 10/10\n",
      "19965/19965 [==============================] - 4s 208us/step - loss: 0.0065 - acc: 0.9982 - val_loss: 0.0134 - val_acc: 0.9976\n"
     ]
    },
    {
     "data": {
      "text/plain": [
       "<keras.callbacks.History at 0x7f8e0186b240>"
      ]
     },
     "execution_count": 28,
     "metadata": {},
     "output_type": "execute_result"
    }
   ],
   "source": [
    "from datetime import datetime\n",
    "# Prepare Callbacks for Model Checkpoint, Early Stopping and Tensorboard.\n",
    "log_name = '/gap_merge.h5'\n",
    "log_dir = datetime.now().strftime('finetune_model_%Y%m%d_%H%M')\n",
    "if not os.path.exists(log_dir):\n",
    "    os.mkdir(log_dir)\n",
    "\n",
    "es = EarlyStopping(monitor='val_loss', patience=20)\n",
    "mc = ModelCheckpoint(log_dir + log_name, monitor='val_loss', save_best_only=True)\n",
    "tb = TensorBoard(log_dir=log_dir)\n",
    "\n",
    "model_gap.fit(x=X_train_gap, y = y_train_gap, batch_size=16, epochs=10, validation_data=(X_val_gap, y_val_gap), \\\n",
    "              callbacks=[es, mc, tb])\n"
   ]
  },
  {
   "cell_type": "markdown",
   "metadata": {},
   "source": [
    "## ------------------------------------------------------------------------------------------------------\n",
    "### Write in file"
   ]
  },
  {
   "cell_type": "code",
   "execution_count": 35,
   "metadata": {},
   "outputs": [
    {
     "name": "stdout",
     "output_type": "stream",
     "text": [
      "12500/12500 [==============================] - 1s 47us/step\n",
      "Found 0 images belonging to 0 classes.\n"
     ]
    },
    {
     "data": {
      "text/html": [
       "<div>\n",
       "<style scoped>\n",
       "    .dataframe tbody tr th:only-of-type {\n",
       "        vertical-align: middle;\n",
       "    }\n",
       "\n",
       "    .dataframe tbody tr th {\n",
       "        vertical-align: top;\n",
       "    }\n",
       "\n",
       "    .dataframe thead th {\n",
       "        text-align: right;\n",
       "    }\n",
       "</style>\n",
       "<table border=\"1\" class=\"dataframe\">\n",
       "  <thead>\n",
       "    <tr style=\"text-align: right;\">\n",
       "      <th></th>\n",
       "      <th>id</th>\n",
       "      <th>label</th>\n",
       "    </tr>\n",
       "  </thead>\n",
       "  <tbody>\n",
       "    <tr>\n",
       "      <th>0</th>\n",
       "      <td>1</td>\n",
       "      <td>0.5</td>\n",
       "    </tr>\n",
       "    <tr>\n",
       "      <th>1</th>\n",
       "      <td>2</td>\n",
       "      <td>0.5</td>\n",
       "    </tr>\n",
       "    <tr>\n",
       "      <th>2</th>\n",
       "      <td>3</td>\n",
       "      <td>0.5</td>\n",
       "    </tr>\n",
       "    <tr>\n",
       "      <th>3</th>\n",
       "      <td>4</td>\n",
       "      <td>0.5</td>\n",
       "    </tr>\n",
       "    <tr>\n",
       "      <th>4</th>\n",
       "      <td>5</td>\n",
       "      <td>0.5</td>\n",
       "    </tr>\n",
       "    <tr>\n",
       "      <th>5</th>\n",
       "      <td>6</td>\n",
       "      <td>0.5</td>\n",
       "    </tr>\n",
       "    <tr>\n",
       "      <th>6</th>\n",
       "      <td>7</td>\n",
       "      <td>0.5</td>\n",
       "    </tr>\n",
       "    <tr>\n",
       "      <th>7</th>\n",
       "      <td>8</td>\n",
       "      <td>0.5</td>\n",
       "    </tr>\n",
       "    <tr>\n",
       "      <th>8</th>\n",
       "      <td>9</td>\n",
       "      <td>0.5</td>\n",
       "    </tr>\n",
       "    <tr>\n",
       "      <th>9</th>\n",
       "      <td>10</td>\n",
       "      <td>0.5</td>\n",
       "    </tr>\n",
       "  </tbody>\n",
       "</table>\n",
       "</div>"
      ],
      "text/plain": [
       "   id  label\n",
       "0   1    0.5\n",
       "1   2    0.5\n",
       "2   3    0.5\n",
       "3   4    0.5\n",
       "4   5    0.5\n",
       "5   6    0.5\n",
       "6   7    0.5\n",
       "7   8    0.5\n",
       "8   9    0.5\n",
       "9  10    0.5"
      ]
     },
     "execution_count": 35,
     "metadata": {},
     "output_type": "execute_result"
    }
   ],
   "source": [
    "##predict\n",
    "y_pred = model_gap.predict(x_test, verbose=1)\n",
    "y_pred = y_pred.clip(min=0.003, max=0.997)\n",
    "\n",
    "import pandas as pd\n",
    "from keras.preprocessing.image import *\n",
    "\n",
    "df = pd.read_csv(\"sample_submission.csv\")\n",
    "\n",
    "gen = ImageDataGenerator()\n",
    "test_generator = gen.flow_from_directory(\"test_link\", (224, 224), shuffle=False, \n",
    "                                         batch_size=16, class_mode=None)\n",
    "\n",
    "for i, fname in enumerate(test_generator.filenames):\n",
    "    index = int(fname[fname.rfind('/')+1:fname.rfind('.')])\n",
    "    df.set_value(index-1, 'label', y_pred[i])\n",
    "\n",
    "df.to_csv('pred.csv', index=None)\n",
    "df.head(10)"
   ]
  }
 ],
 "metadata": {
  "anaconda-cloud": {},
  "kernelspec": {
   "display_name": "Environment (conda_anaconda3)",
   "language": "python",
   "name": "conda_anaconda3"
  },
  "language_info": {
   "codemirror_mode": {
    "name": "ipython",
    "version": 3
   },
   "file_extension": ".py",
   "mimetype": "text/x-python",
   "name": "python",
   "nbconvert_exporter": "python",
   "pygments_lexer": "ipython3",
   "version": "3.6.4"
  }
 },
 "nbformat": 4,
 "nbformat_minor": 1
}
